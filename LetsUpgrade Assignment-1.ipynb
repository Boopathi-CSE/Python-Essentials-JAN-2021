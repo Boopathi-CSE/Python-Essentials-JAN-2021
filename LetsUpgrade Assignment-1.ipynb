{
 "cells": [
  {
   "cell_type": "code",
   "execution_count": 3,
   "metadata": {},
   "outputs": [
    {
     "name": "stdout",
     "output_type": "stream",
     "text": [
      "0.26785714285714285\n"
     ]
    }
   ],
   "source": [
    "x=5\n",
    "print((2*x+5)/(x**2+5*x+6))"
   ]
  },
  {
   "cell_type": "code",
   "execution_count": 8,
   "metadata": {},
   "outputs": [
    {
     "name": "stdout",
     "output_type": "stream",
     "text": [
      "3.7333333333333334\n"
     ]
    }
   ],
   "source": [
    "x=5\n",
    "print((x**2+5*x+6)/(2*x+5))"
   ]
  },
  {
   "cell_type": "code",
   "execution_count": 10,
   "metadata": {},
   "outputs": [
    {
     "name": "stdout",
     "output_type": "stream",
     "text": [
      "98\n"
     ]
    }
   ],
   "source": [
    "x=5\n",
    "print((2*x-3)*(x+9))"
   ]
  },
  {
   "cell_type": "code",
   "execution_count": 11,
   "metadata": {},
   "outputs": [
    {
     "name": "stdout",
     "output_type": "stream",
     "text": [
      "Enter the Username: Kavin\n",
      "Enter the Password: 2468IO\n",
      "Use correct password: kiokpsg\n",
      "Use correct password: KIOT248\n",
      "Login Successful\n"
     ]
    }
   ],
   "source": [
    "user=\"Kavin\"\n",
    "password=\"KIOT248\"\n",
    "count=0\n",
    "name=str(input(\"Enter the Username: \"))\n",
    "pw=str(input(\"Enter the Password: \"))\n",
    "if (name!=user):\n",
    "    print(\"Invalid User\")\n",
    "else:\n",
    "    while (count<5):\n",
    "        if (pw==password):\n",
    "            print(\"Login Successful\")\n",
    "            count=0\n",
    "            break\n",
    "        else:\n",
    "            pw=str(input(\"Use correct password: \"))\n",
    "            count=count+1\n",
    "if (count!=0):\n",
    "    print(\"Your Account is Blocked for 24 Hours\")"
   ]
  },
  {
   "cell_type": "code",
   "execution_count": null,
   "metadata": {},
   "outputs": [],
   "source": []
  }
 ],
 "metadata": {
  "kernelspec": {
   "display_name": "Python 3",
   "language": "python",
   "name": "python3"
  },
  "language_info": {
   "codemirror_mode": {
    "name": "ipython",
    "version": 3
   },
   "file_extension": ".py",
   "mimetype": "text/x-python",
   "name": "python",
   "nbconvert_exporter": "python",
   "pygments_lexer": "ipython3",
   "version": "3.7.6"
  }
 },
 "nbformat": 4,
 "nbformat_minor": 4
}
