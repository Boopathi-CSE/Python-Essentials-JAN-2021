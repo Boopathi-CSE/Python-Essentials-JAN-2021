{
 "cells": [
  {
   "cell_type": "markdown",
   "metadata": {},
   "source": [
    "# Guess the movie name in python."
   ]
  },
  {
   "cell_type": "code",
   "execution_count": 1,
   "metadata": {},
   "outputs": [
    {
     "name": "stdout",
     "output_type": "stream",
     "text": [
      "working\n"
     ]
    }
   ],
   "source": [
    "import firebase_admin\n",
    "from firebase_admin import credentials\n",
    "\n",
    "cred = credentials.Certificate(\"D:\\LetsUpgrade\\projectdb.json\")\n",
    "firebase_admin.initialize_app(cred)\n",
    "print(\"working\")"
   ]
  },
  {
   "cell_type": "code",
   "execution_count": 2,
   "metadata": {},
   "outputs": [
    {
     "name": "stdout",
     "output_type": "stream",
     "text": [
      "Database updated\n"
     ]
    }
   ],
   "source": [
    "from firebase_admin import firestore\n",
    "db= firestore.client()\n",
    "doc_ref=db.collection(\"Movies\").document(\"Bollywood\")\n",
    "\n",
    "data = {\"Name\":[\"hero\",\"master\",\"kgf\",\"lifeofpie\",\"raone\",\"robot\",\"dhoom\",\"vikram\",\"friends\",\"billa\",\"krish\",\"vikramvedha\"]}\n",
    "doc_ref.set(data)\n",
    "print(\"Database updated\")"
   ]
  },
  {
   "cell_type": "code",
   "execution_count": 3,
   "metadata": {},
   "outputs": [
    {
     "name": "stdout",
     "output_type": "stream",
     "text": [
      "Guess the movie name!!!\n",
      "Enter your Name: Boopathi\n",
      "Best of luck! Boopathi\n",
      "_ _ _ _ _  \n",
      "Enter your character: m\n",
      "Wrong Answer:(\n",
      "You have  9 more geusses\n",
      "_ _ _ _ _  \n",
      "Enter your character: k\n",
      "Wrong Answer:(\n",
      "You have  8 more geusses\n",
      "_ _ _ _ _  \n",
      "Enter your character: o\n",
      "_ o _ o _  \n",
      "Enter your character: r\n",
      "r o _ o _  \n",
      "Enter your character: b\n",
      "r o b o _  \n",
      "Enter your character: t\n",
      "r o b o t  \n",
      "Found correct movie name:  robot\n",
      "Congratulation you won!!!\n"
     ]
    }
   ],
   "source": [
    "import random\n",
    "\n",
    "db = firestore.client()\n",
    "docs=db.collection(\"Movies\").stream()\n",
    "\n",
    "for d in docs:\n",
    "    database = d.to_dict()\n",
    "\n",
    "movie = database[\"Name\"]\n",
    "print(\"Guess the movie name!!!\")\n",
    "player = input(\"Enter your Name: \")\n",
    "print(\"Best of luck!\",player)\n",
    "count = 10\n",
    "geuss= \"\"\n",
    "word = random.choice(movie)\n",
    "while count>0:\n",
    "    fail = 0\n",
    "    for char in word:\n",
    "        if char in geuss:\n",
    "            print(char,end=\" \")\n",
    "        else:\n",
    "            print(\"_\",end=\" \")\n",
    "            fail+=1\n",
    "    print(\" \")       \n",
    "    if fail==0:\n",
    "        print(\"Found correct movie name: \",word)\n",
    "        print(\"Congratulation you won!!!\")\n",
    "        break\n",
    "    g = input(\"Enter your character: \")\n",
    "    geuss = geuss+g\n",
    "    if g not in word:\n",
    "        count = count-1\n",
    "        print(\"Wrong Answer:(\")\n",
    "        print(\"You have \",count,\"more geusses\")"
   ]
  },
  {
   "cell_type": "code",
   "execution_count": null,
   "metadata": {},
   "outputs": [],
   "source": []
  }
 ],
 "metadata": {
  "kernelspec": {
   "display_name": "Python 3",
   "language": "python",
   "name": "python3"
  },
  "language_info": {
   "codemirror_mode": {
    "name": "ipython",
    "version": 3
   },
   "file_extension": ".py",
   "mimetype": "text/x-python",
   "name": "python",
   "nbconvert_exporter": "python",
   "pygments_lexer": "ipython3",
   "version": "3.7.6"
  }
 },
 "nbformat": 4,
 "nbformat_minor": 4
}
