{
 "cells": [
  {
   "cell_type": "markdown",
   "metadata": {},
   "source": [
    "# Question 1"
   ]
  },
  {
   "cell_type": "markdown",
   "metadata": {},
   "source": [
    "Write a Python function to find the Max of three numbers."
   ]
  },
  {
   "cell_type": "code",
   "execution_count": 1,
   "metadata": {},
   "outputs": [
    {
     "name": "stdout",
     "output_type": "stream",
     "text": [
      "Enter the value of a :45\n",
      "Enter the value of b :27\n",
      "Enter the value of c :55\n",
      "Maximum Value :  55\n"
     ]
    }
   ],
   "source": [
    "def MaxOfThree(a,b,c):\n",
    "    Max=a\n",
    "    if a>=b and a>=c:\n",
    "        Max=a\n",
    "    elif b>a and b>c:\n",
    "        Max=b\n",
    "    else:\n",
    "        Max=c\n",
    "    return Max\n",
    "\n",
    "a=int(input(\"Enter the value of a :\"))\n",
    "b=int(input(\"Enter the value of b :\"))\n",
    "c=int(input(\"Enter the value of c :\"))\n",
    "print(\"Maximum Value : \",MaxOfThree(a,b,c))"
   ]
  },
  {
   "cell_type": "markdown",
   "metadata": {},
   "source": [
    "# Question 2"
   ]
  },
  {
   "cell_type": "markdown",
   "metadata": {},
   "source": [
    "Write a Python function that checks whether a passed string is palindrome or not"
   ]
  },
  {
   "cell_type": "code",
   "execution_count": 2,
   "metadata": {},
   "outputs": [
    {
     "name": "stdout",
     "output_type": "stream",
     "text": [
      "Enter the String : madam\n",
      "Palindrome\n"
     ]
    }
   ],
   "source": [
    "def PalindromeCheck(s):\n",
    "    for i in range(0,int(len(s)/2)):\n",
    "        if s[i] != s[len(s)-i-1]:\n",
    "            return False\n",
    "    return True\n",
    "\n",
    "str1=str(input(\"Enter the String : \"))\n",
    "\n",
    "if PalindromeCheck(str1):\n",
    "    print(\"Palindrome\")\n",
    "else:\n",
    "    print(\"Not a Palindrome\")"
   ]
  },
  {
   "cell_type": "markdown",
   "metadata": {},
   "source": [
    "# Question 3"
   ]
  },
  {
   "cell_type": "markdown",
   "metadata": {},
   "source": [
    "Write a Python function that accepts a string and calculate the number of uppercase letters and lowercase letters"
   ]
  },
  {
   "cell_type": "code",
   "execution_count": 3,
   "metadata": {},
   "outputs": [
    {
     "name": "stdout",
     "output_type": "stream",
     "text": [
      "Enter a String : Third Question\n",
      "No. of Uppercase Letters:  2\n",
      "No. of Lowercase Letters:  11\n"
     ]
    }
   ],
   "source": [
    "def Case(s):\n",
    "    uppercase=0\n",
    "    lowercase=0\n",
    "    for i in s:\n",
    "        if i.isupper():\n",
    "            uppercase=uppercase+1\n",
    "        elif i.islower():\n",
    "            lowercase=lowercase+1\n",
    "        else:\n",
    "            pass\n",
    "    print(\"No. of Uppercase Letters: \",uppercase)\n",
    "    print(\"No. of Lowercase Letters: \",lowercase)\n",
    "\n",
    "str2=str(input(\"Enter a String : \"))\n",
    "Case(str2)"
   ]
  },
  {
   "cell_type": "markdown",
   "metadata": {},
   "source": [
    "# Question 4"
   ]
  },
  {
   "cell_type": "markdown",
   "metadata": {},
   "source": [
    "Write a Python function to sum all the numbers in a list"
   ]
  },
  {
   "cell_type": "code",
   "execution_count": 4,
   "metadata": {},
   "outputs": [
    {
     "name": "stdout",
     "output_type": "stream",
     "text": [
      "Enter the value in list [Use 'a' to stop]\n",
      "3\n",
      "4\n",
      "7\n",
      "1\n",
      "6\n",
      "a\n",
      "sum of all numbers =  21\n"
     ]
    }
   ],
   "source": [
    "print(\"Enter the value in list [Use 'a' to stop]\")\n",
    "l1=list()\n",
    "element=input()\n",
    "while element!='a':\n",
    "    l1.append(int(element))\n",
    "    element=input()\n",
    "\n",
    "print(\"sum of all numbers = \",sum(l1))"
   ]
  },
  {
   "cell_type": "markdown",
   "metadata": {},
   "source": [
    "### Another Solution"
   ]
  },
  {
   "cell_type": "code",
   "execution_count": 5,
   "metadata": {},
   "outputs": [
    {
     "name": "stdout",
     "output_type": "stream",
     "text": [
      "Another Solution\n",
      "Enter the value in list [Use 'a' to stop]\n",
      "5\n",
      "2\n",
      "3\n",
      "1\n",
      "a\n",
      "Sum of numbers in the given List is:  11\n"
     ]
    }
   ],
   "source": [
    "print(\"Another Solution\")\n",
    "print(\"Enter the value in list [Use 'a' to stop]\")\n",
    "\n",
    "def SumOfNumbers(l):\n",
    "    Sum=0\n",
    "    for i in l:\n",
    "        Sum=Sum+i\n",
    "    return Sum\n",
    "    \n",
    "l2=list()\n",
    "element=input()\n",
    "while element!='a':\n",
    "    l2.append(int(element))\n",
    "    element=input()\n",
    "\n",
    "print(\"Sum of numbers in the given List is: \",SumOfNumbers(l2))"
   ]
  },
  {
   "cell_type": "markdown",
   "metadata": {},
   "source": [
    "# Question 5"
   ]
  },
  {
   "cell_type": "markdown",
   "metadata": {},
   "source": [
    "Write a Python function to multiply all the numbers in a list"
   ]
  },
  {
   "cell_type": "code",
   "execution_count": 6,
   "metadata": {},
   "outputs": [
    {
     "name": "stdout",
     "output_type": "stream",
     "text": [
      "Enter the value in list [Use 'm' to stop]\n",
      "2\n",
      "5\n",
      "6\n",
      "m\n",
      "Multiplication result :  60\n"
     ]
    }
   ],
   "source": [
    "print(\"Enter the value in list [Use 'm' to stop]\")\n",
    "\n",
    "def Number(l):\n",
    "    Mul=int(1)\n",
    "    for i in l:\n",
    "        Mul=i*Mul\n",
    "    return Mul\n",
    "    \n",
    "l3=list()\n",
    "ele=input()\n",
    "while ele!='m':\n",
    "    l3.append(int(ele))\n",
    "    ele=input()\n",
    "\n",
    "print(\"Multiplication result : \",Number(l3))"
   ]
  },
  {
   "cell_type": "markdown",
   "metadata": {},
   "source": [
    "# Question 6"
   ]
  },
  {
   "cell_type": "markdown",
   "metadata": {},
   "source": [
    "Write a Python function that takes a list and returns a new list with unique elements of the first list"
   ]
  },
  {
   "cell_type": "code",
   "execution_count": 7,
   "metadata": {},
   "outputs": [
    {
     "name": "stdout",
     "output_type": "stream",
     "text": [
      "[33, 3, 4, 5, 8, 17, 55, 27]\n"
     ]
    }
   ],
   "source": [
    "def UniqueValue(l):\n",
    "    return set(l)\n",
    "    \n",
    "list6=[3,4,33,5,55,4,5,27,4,8,17,33,5]\n",
    "print(list(UniqueValue(list6)))"
   ]
  },
  {
   "cell_type": "markdown",
   "metadata": {},
   "source": [
    "### Another Solution"
   ]
  },
  {
   "cell_type": "code",
   "execution_count": 9,
   "metadata": {},
   "outputs": [
    {
     "name": "stdout",
     "output_type": "stream",
     "text": [
      "Enter no. of Elements in List: 5\n",
      "3\n",
      "3\n",
      "2\n",
      "4\n",
      "2\n",
      "[3, 2, 4]\n"
     ]
    }
   ],
   "source": [
    "def unique_Elements(l):\n",
    "    UniqueList=list()\n",
    "    for i in l:\n",
    "        if i not in UniqueList:\n",
    "            UniqueList.append(i)\n",
    "    return UniqueList\n",
    "\n",
    "list_6=[]\n",
    "n=int(input(\"Enter no. of Elements in List: \"))\n",
    "for i in range(0,n):\n",
    "    list_6.append(int(input()))\n",
    "    \n",
    "print(unique_Elements(list_6))"
   ]
  },
  {
   "cell_type": "code",
   "execution_count": null,
   "metadata": {},
   "outputs": [],
   "source": []
  }
 ],
 "metadata": {
  "kernelspec": {
   "display_name": "Python 3",
   "language": "python",
   "name": "python3"
  },
  "language_info": {
   "codemirror_mode": {
    "name": "ipython",
    "version": 3
   },
   "file_extension": ".py",
   "mimetype": "text/x-python",
   "name": "python",
   "nbconvert_exporter": "python",
   "pygments_lexer": "ipython3",
   "version": "3.7.6"
  }
 },
 "nbformat": 4,
 "nbformat_minor": 4
}
