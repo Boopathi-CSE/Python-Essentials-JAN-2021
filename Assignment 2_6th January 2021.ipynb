{
 "cells": [
  {
   "cell_type": "markdown",
   "metadata": {},
   "source": [
    "# Question 1"
   ]
  },
  {
   "cell_type": "code",
   "execution_count": 46,
   "metadata": {},
   "outputs": [
    {
     "name": "stdout",
     "output_type": "stream",
     "text": [
      "Enter the values      :64975822698\n",
      "After removing Duplicates:  ['4', '6', '2', '9', '5', '7', '8']\n"
     ]
    }
   ],
   "source": [
    "MYlist=list(input(\"Enter the values      :\"))\n",
    "print(\"After removing Duplicates: \",list(set(MYlist)))"
   ]
  },
  {
   "cell_type": "markdown",
   "metadata": {},
   "source": [
    "# Question 2"
   ]
  },
  {
   "cell_type": "code",
   "execution_count": 24,
   "metadata": {},
   "outputs": [
    {
     "name": "stdout",
     "output_type": "stream",
     "text": [
      "Enter values for List1: 8586321\n",
      "Enter values for List2: 1257779\n",
      "8 8 6 3 "
     ]
    }
   ],
   "source": [
    "List1=list(input(\"Enter values for List1: \"))\n",
    "List2=list(input(\"Enter values for List2: \"))\n",
    "for i in List1:\n",
    "    if i not in List2:\n",
    "        print(i,end=\" \")"
   ]
  },
  {
   "cell_type": "markdown",
   "metadata": {},
   "source": [
    "# Question 3"
   ]
  },
  {
   "cell_type": "code",
   "execution_count": 25,
   "metadata": {},
   "outputs": [
    {
     "name": "stdout",
     "output_type": "stream",
     "text": [
      "Enter the value :12527775\n",
      "Frequency of  1 is 1\n",
      "Frequency of  7 is 3\n",
      "Frequency of  5 is 2\n",
      "Frequency of  2 is 2\n"
     ]
    }
   ],
   "source": [
    "l=list(input(\"Enter the value :\"))\n",
    "s=set(l)\n",
    "for i in s:\n",
    "    print(\"Frequency of \",i,\"is\",l.count(i))"
   ]
  },
  {
   "cell_type": "markdown",
   "metadata": {},
   "source": [
    "# Question 4"
   ]
  },
  {
   "cell_type": "code",
   "execution_count": 31,
   "metadata": {},
   "outputs": [
    {
     "name": "stdout",
     "output_type": "stream",
     "text": [
      "Color1-Color2:  ['red', 'orange', 'white']\n",
      "Color2-Color1:  ['black', 'yellow']\n"
     ]
    }
   ],
   "source": [
    "l1=[\"red\",\"orange\",\"green\",\"blue\",\"white\"]\n",
    "l2=[\"black\",\"yellow\",\"green\",\"blue\"]\n",
    "l3=list()\n",
    "l4=list()\n",
    "for i in l1:\n",
    "    if i not in l2:\n",
    "        l3.append(i)\n",
    "for j in l2:\n",
    "    if j not in l1:\n",
    "        l4.append(j)\n",
    "print(\"Color1-Color2: \",l3)\n",
    "print(\"Color2-Color1: \",l4)"
   ]
  },
  {
   "cell_type": "markdown",
   "metadata": {},
   "source": [
    "# Question 5"
   ]
  },
  {
   "cell_type": "code",
   "execution_count": 38,
   "metadata": {},
   "outputs": [
    {
     "name": "stdout",
     "output_type": "stream",
     "text": [
      "Longest word length is:  11\n"
     ]
    }
   ],
   "source": [
    "def f(LIST):\n",
    "    length=0\n",
    "    for i in LIST:\n",
    "        if len(i) >length:\n",
    "            length=len(i)\n",
    "    return length\n",
    "List_1=[\"red\",\"orange\",\"green\",\"blue\",\"white\",\"LetsUpgrage\"]\n",
    "print(\"Longest word length is: \",f(List_1))"
   ]
  },
  {
   "cell_type": "markdown",
   "metadata": {},
   "source": [
    "# Question 6"
   ]
  },
  {
   "cell_type": "code",
   "execution_count": 41,
   "metadata": {},
   "outputs": [
    {
     "name": "stdout",
     "output_type": "stream",
     "text": [
      "{'the': 2, 'program': 2, 'count': 2, ':': 1, 'this': 2, 'occurrences': 1, 'of': 1, 'word': 1, 'in': 1, 'Sentence': 1}\n"
     ]
    }
   ],
   "source": [
    "Sentence=\"the program count : this program count the occurrences of word in this Sentence\"\n",
    "WordCount={}\n",
    "words=Sentence.split()\n",
    "for key in words:\n",
    "    if key in WordCount:\n",
    "        WordCount[key]+=1\n",
    "    else:\n",
    "        WordCount[key]=1\n",
    "print(WordCount)"
   ]
  },
  {
   "cell_type": "markdown",
   "metadata": {},
   "source": [
    "# Question 7"
   ]
  },
  {
   "cell_type": "code",
   "execution_count": 42,
   "metadata": {},
   "outputs": [
    {
     "name": "stdout",
     "output_type": "stream",
     "text": [
      "Enter the TEXT : MaxSpeed\n",
      "3\n",
      "['a', 'e', 'e']\n"
     ]
    }
   ],
   "source": [
    "Text=str(input(\"Enter the TEXT : \"))\n",
    "Vowels=['A','E','I','O','U','a','e','i','o','u']\n",
    "count=0\n",
    "for char in Text:\n",
    "    if char in Vowels:\n",
    "        count=count+1\n",
    "print(count)\n",
    "print([letter for letter in Text if letter in Vowels])"
   ]
  },
  {
   "cell_type": "markdown",
   "metadata": {},
   "source": [
    "# Question 8"
   ]
  },
  {
   "cell_type": "code",
   "execution_count": 43,
   "metadata": {},
   "outputs": [
    {
     "name": "stdout",
     "output_type": "stream",
     "text": [
      "Enter the value of 'n': 5\n",
      "{1: 1, 2: 4, 3: 9, 4: 16, 5: 25}\n"
     ]
    }
   ],
   "source": [
    "Dict={}\n",
    "n=int(input(\"Enter the value of 'n': \"))\n",
    "for i in range(1,n+1):\n",
    "    Dict[i]=i*i\n",
    "print(Dict)"
   ]
  },
  {
   "cell_type": "markdown",
   "metadata": {},
   "source": [
    "# Question 9"
   ]
  },
  {
   "cell_type": "code",
   "execution_count": 48,
   "metadata": {},
   "outputs": [
    {
     "name": "stdout",
     "output_type": "stream",
     "text": [
      "Counter({'e': 500, 'b': 345, 'a': 300, 'c': 300, 'd': 50})\n"
     ]
    }
   ],
   "source": [
    "from collections import Counter \n",
    "d1={'a':100, 'b':200, 'c':300, 'e':500}\n",
    "d2={'a':200, 'b':145, 'd':50}\n",
    "print(Counter(d1)+Counter(d2))"
   ]
  },
  {
   "cell_type": "markdown",
   "metadata": {},
   "source": [
    "# Question 10"
   ]
  },
  {
   "cell_type": "code",
   "execution_count": 49,
   "metadata": {},
   "outputs": [
    {
     "name": "stdout",
     "output_type": "stream",
     "text": [
      "Unique Values:  {'S007', 'S009', 'S005', 'S001', 'S002'}\n"
     ]
    }
   ],
   "source": [
    "List_Data=[{'V': 'S001'}, {'V': 'S002'}, {'VI': 'S001'}, {'VI': 'S005'}, {'VII': 'S005'}, {'V': 'S009'}, {'VIII': 'S007'}]\n",
    "print(\"Unique Values: \",set(val for Dict in List_Data for val in Dict.values()))"
   ]
  },
  {
   "cell_type": "code",
   "execution_count": null,
   "metadata": {},
   "outputs": [],
   "source": []
  }
 ],
 "metadata": {
  "kernelspec": {
   "display_name": "Python 3",
   "language": "python",
   "name": "python3"
  },
  "language_info": {
   "codemirror_mode": {
    "name": "ipython",
    "version": 3
   },
   "file_extension": ".py",
   "mimetype": "text/x-python",
   "name": "python",
   "nbconvert_exporter": "python",
   "pygments_lexer": "ipython3",
   "version": "3.7.6"
  }
 },
 "nbformat": 4,
 "nbformat_minor": 4
}
