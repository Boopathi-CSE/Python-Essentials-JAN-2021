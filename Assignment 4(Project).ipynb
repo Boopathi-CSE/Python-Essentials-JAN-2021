{
 "cells": [
  {
   "cell_type": "markdown",
   "metadata": {},
   "source": [
    "# Cryptography App"
   ]
  },
  {
   "cell_type": "code",
   "execution_count": 3,
   "metadata": {},
   "outputs": [],
   "source": [
    "import onetimepad"
   ]
  },
  {
   "cell_type": "code",
   "execution_count": 4,
   "metadata": {},
   "outputs": [],
   "source": [
    "from tkinter import *\n",
    "root = Tk()\n",
    "root.title(\"Python Cryptography Project\")\n",
    "\n",
    "def EncryptMessage():\n",
    "    a=var.get()\n",
    "    ct=onetimepad.encrypt(a,\"UseThisCode:4\")\n",
    "    E1.delete(0,END)\n",
    "    E1.insert(END,ct)\n",
    "    \n",
    "def DecryptMessage():\n",
    "    a=var2.get()\n",
    "    ct=onetimepad.decrypt(a,\"UseThisCode:4\")\n",
    "    E2.delete(0,END)\n",
    "    E2.insert(END,ct)\n",
    "\n",
    "var= StringVar()\n",
    "var2=StringVar()\n",
    "\n",
    "l1=Label(root,text=\"Normal Text\")\n",
    "l1.grid(row=0,column=0)\n",
    "e1=Entry(root,textvariable=var)\n",
    "e1.grid(row=0,column=1)\n",
    "\n",
    "l2=Label(root,text=\"Encrypted Text\")\n",
    "l2.grid(row=0,column=2)\n",
    "e2=Entry(root,textvariable=var2)\n",
    "e2.grid(row=0,column=3)\n",
    "\n",
    "b=Button(root,text=\"Encript\",bg=\"orange\",command=EncryptMessage)\n",
    "b.grid(row=2,column=1)\n",
    "\n",
    "L1=Label(root,text=\"Encrypted Text\")\n",
    "L1.grid(row=1,column=0)\n",
    "E1=Entry(root)\n",
    "E1.grid(row=1,column=1)\n",
    "\n",
    "L2=Label(root,text=\"Decrypted Text\")\n",
    "L2.grid(row=1,column=2)\n",
    "E2=Entry(root)\n",
    "E2.grid(row=1,column=3)\n",
    "\n",
    "B=Button(root,text=\"Decript\",fg=\"Red\",command=DecryptMessage)\n",
    "B.grid(row=2,column=3)\n",
    "\n",
    "root.mainloop()"
   ]
  },
  {
   "cell_type": "markdown",
   "metadata": {},
   "source": [
    "# Guess the movie name in Python"
   ]
  },
  {
   "cell_type": "code",
   "execution_count": 1,
   "metadata": {},
   "outputs": [
    {
     "name": "stdout",
     "output_type": "stream",
     "text": [
      "working\n"
     ]
    }
   ],
   "source": [
    "import firebase_admin\n",
    "from firebase_admin import credentials\n",
    "\n",
    "cred = credentials.Certificate(\"D:\\LetsUpgrade\\projectdb.json\")\n",
    "firebase_admin.initialize_app(cred)\n",
    "print(\"working\")"
   ]
  },
  {
   "cell_type": "code",
   "execution_count": 2,
   "metadata": {},
   "outputs": [
    {
     "name": "stdout",
     "output_type": "stream",
     "text": [
      "Database updated\n"
     ]
    }
   ],
   "source": [
    "from firebase_admin import firestore\n",
    "db= firestore.client()\n",
    "doc_ref=db.collection(\"Movies\").document(\"Bollywood\")\n",
    "\n",
    "data = {\"Name\":[\"hero\",\"master\",\"kgf\",\"lifeofpie\",\"raone\",\"robot\",\"dhoom\",\"vikram\",\"friends\",\"billa\",\"krish\",\"vikramvedha\"]}\n",
    "doc_ref.set(data)\n",
    "print(\"Database updated\")"
   ]
  },
  {
   "cell_type": "code",
   "execution_count": 5,
   "metadata": {},
   "outputs": [
    {
     "name": "stdout",
     "output_type": "stream",
     "text": [
      "Guess the movie name!!!\n",
      "Enter your Name: Boopathi\n",
      "Best of luck! Boopathi\n",
      "_ _ _ _ _  \n",
      "Enter your character: m\n",
      "Wrong Answer:(\n",
      "You have  9 more geusses\n",
      "_ _ _ _ _  \n",
      "Enter your character: r\n",
      "_ r _ _ _  \n",
      "Enter your character: i\n",
      "_ r i _ _  \n",
      "Enter your character: s\n",
      "_ r i s _  \n",
      "Enter your character: k\n",
      "k r i s _  \n",
      "Enter your character: h\n",
      "k r i s h  \n",
      "Found correct movie name:  krish\n",
      "Congratulation you won!!!\n"
     ]
    }
   ],
   "source": [
    "import random\n",
    "\n",
    "db = firestore.client()\n",
    "docs=db.collection(\"Movies\").stream()\n",
    "\n",
    "for d in docs:\n",
    "    database = d.to_dict()\n",
    "\n",
    "movie = database[\"Name\"]\n",
    "print(\"Guess the movie name!!!\")\n",
    "player = input(\"Enter your Name: \")\n",
    "print(\"Best of luck!\",player)\n",
    "count = 10\n",
    "geuss= \"\"\n",
    "word = random.choice(movie)\n",
    "while count>0:\n",
    "    fail = 0\n",
    "    for char in word:\n",
    "        if char in geuss:\n",
    "            print(char,end=\" \")\n",
    "        else:\n",
    "            print(\"_\",end=\" \")\n",
    "            fail+=1\n",
    "    print(\" \")       \n",
    "    if fail==0:\n",
    "        print(\"Found correct movie name: \",word)\n",
    "        print(\"Congratulation you won!!!\")\n",
    "        break\n",
    "    g = input(\"Enter your character: \")\n",
    "    geuss = geuss+g\n",
    "    if g not in word:\n",
    "        count = count-1\n",
    "        print(\"Wrong Answer:(\")\n",
    "        print(\"You have \",count,\"more geusses\")"
   ]
  },
  {
   "cell_type": "markdown",
   "metadata": {},
   "source": [
    "# Sending mail using Python"
   ]
  },
  {
   "cell_type": "code",
   "execution_count": 2,
   "metadata": {},
   "outputs": [
    {
     "name": "stdout",
     "output_type": "stream",
     "text": [
      "Enter your Message :You received this mail from jupyter notebook.  Using Python not from gmail.\n"
     ]
    },
    {
     "data": {
      "text/plain": [
       "(221, b'2.0.0 closing connection q35sm15432466pjh.38 - gsmtp')"
      ]
     },
     "execution_count": 2,
     "metadata": {},
     "output_type": "execute_result"
    }
   ],
   "source": [
    "import smtplib\n",
    "\n",
    "s= smtplib.SMTP(\"smtp.gmail.com\",587)\n",
    "\n",
    "s.starttls()\n",
    "\n",
    "s.login(\"boop25athi@gmail.com\",\"jmztcyklifdqkemv\")\n",
    "\n",
    "msg=input(\"Enter your Message :\")\n",
    "\n",
    "s.sendmail(\"King@gmail.com\",\"2k18cse005@kiot.ac.in\",msg)\n",
    "\n",
    "s.quit()"
   ]
  },
  {
   "cell_type": "code",
   "execution_count": null,
   "metadata": {},
   "outputs": [],
   "source": []
  }
 ],
 "metadata": {
  "kernelspec": {
   "display_name": "Python 3",
   "language": "python",
   "name": "python3"
  },
  "language_info": {
   "codemirror_mode": {
    "name": "ipython",
    "version": 3
   },
   "file_extension": ".py",
   "mimetype": "text/x-python",
   "name": "python",
   "nbconvert_exporter": "python",
   "pygments_lexer": "ipython3",
   "version": "3.7.6"
  }
 },
 "nbformat": 4,
 "nbformat_minor": 4
}
