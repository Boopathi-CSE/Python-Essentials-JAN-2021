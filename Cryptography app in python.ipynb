{
 "cells": [
  {
   "cell_type": "markdown",
   "metadata": {},
   "source": [
    "# Cryptography app in python"
   ]
  },
  {
   "cell_type": "code",
   "execution_count": 1,
   "metadata": {},
   "outputs": [],
   "source": [
    "import onetimepad"
   ]
  },
  {
   "cell_type": "code",
   "execution_count": 3,
   "metadata": {},
   "outputs": [],
   "source": [
    "from tkinter import *\n",
    "root = Tk()\n",
    "root.title(\"Python Cryptography Project\")\n",
    "\n",
    "def EncryptMessage():\n",
    "    a=var.get()\n",
    "    ct=onetimepad.encrypt(a,\"UseThisCode\")\n",
    "    E1.delete(0,END)\n",
    "    E1.insert(END,ct)\n",
    "    \n",
    "def DecryptMessage():\n",
    "    a=var2.get()\n",
    "    ct=onetimepad.decrypt(a,\"UseThisCode\")\n",
    "    E2.delete(0,END)\n",
    "    E2.insert(END,ct)\n",
    "\n",
    "var= StringVar()\n",
    "var2=StringVar()\n",
    "\n",
    "l1=Label(root,text=\"Normal Text\")\n",
    "l1.grid(row=0,column=0)\n",
    "e1=Entry(root,textvariable=var)\n",
    "e1.grid(row=0,column=1)\n",
    "\n",
    "l2=Label(root,text=\"Encrypted Text\")\n",
    "l2.grid(row=0,column=2)\n",
    "e2=Entry(root,textvariable=var2)\n",
    "e2.grid(row=0,column=3)\n",
    "\n",
    "b=Button(root,text=\"Encript\",bg=\"orange\",command=EncryptMessage)\n",
    "b.grid(row=2,column=1)\n",
    "\n",
    "L1=Label(root,text=\"Encrypted Text\")\n",
    "L1.grid(row=1,column=0)\n",
    "E1=Entry(root)\n",
    "E1.grid(row=1,column=1)\n",
    "\n",
    "L2=Label(root,text=\"Decrypted Text\")\n",
    "L2.grid(row=1,column=2)\n",
    "E2=Entry(root)\n",
    "E2.grid(row=1,column=3)\n",
    "\n",
    "B=Button(root,text=\"Decript\",fg=\"Red\",command=DecryptMessage)\n",
    "B.grid(row=2,column=3)\n",
    "\n",
    "root.mainloop()"
   ]
  },
  {
   "cell_type": "code",
   "execution_count": null,
   "metadata": {},
   "outputs": [],
   "source": []
  }
 ],
 "metadata": {
  "kernelspec": {
   "display_name": "Python 3",
   "language": "python",
   "name": "python3"
  },
  "language_info": {
   "codemirror_mode": {
    "name": "ipython",
    "version": 3
   },
   "file_extension": ".py",
   "mimetype": "text/x-python",
   "name": "python",
   "nbconvert_exporter": "python",
   "pygments_lexer": "ipython3",
   "version": "3.7.6"
  }
 },
 "nbformat": 4,
 "nbformat_minor": 4
}
